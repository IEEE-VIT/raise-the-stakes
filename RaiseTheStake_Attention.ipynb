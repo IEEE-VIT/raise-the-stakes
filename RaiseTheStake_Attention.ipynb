{
 "cells": [
  {
   "cell_type": "code",
   "execution_count": 70,
   "id": "3516eff4-ce17-4df0-ad8b-59a803d82621",
   "metadata": {},
   "outputs": [],
   "source": [
    "import numpy as np\n",
    "import math\n",
    "import matplotlib.pyplot as plt\n",
    "from datetime import datetime\n",
    "from tqdm import tqdm \n",
    "from sklearn.metrics import accuracy_score, classification_report, confusion_matrix, ConfusionMatrixDisplay\n",
    "import torch\n",
    "from torch.utils import data\n",
    "import torch.nn as nn\n",
    "import torch.optim as optim\n",
    "\n",
    "device = torch.device(\"cuda:0\" if torch.cuda.is_available() else \"cpu\")"
   ]
  },
  {
   "cell_type": "code",
   "execution_count": 86,
   "id": "f52e070b-01e3-438a-a80f-7ca315439a23",
   "metadata": {},
   "outputs": [
    {
     "name": "stdout",
     "output_type": "stream",
     "text": [
      "Train shape: (203800, 40)\n",
      "Val shape: (50950, 40)\n",
      "Test shape: (139587, 40)\n"
     ]
    }
   ],
   "source": [
    "# Load data for training \n",
    "dec_data = np.loadtxt('published/BenchmarkDatasets/BenchmarkDatasets/NoAuction/1.NoAuction_Zscore/NoAuction_Zscore_Training/Train_Dst_NoAuction_ZScore_CF_7.txt')\n",
    "#split for Cross-Validation\n",
    "dec_train = dec_data[:, :int(dec_data.shape[1] * 0.8)]\n",
    "dec_val = dec_data[:, int(dec_data.shape[1] * 0.8):]\n",
    "\n",
    "# Load data for testing \n",
    "dec_test1 = np.loadtxt('published/BenchmarkDatasets/BenchmarkDatasets/NoAuction/1.NoAuction_Zscore/NoAuction_Zscore_Testing/Test_Dst_NoAuction_ZScore_CF_7.txt')\n",
    "dec_test2 = np.loadtxt('published/BenchmarkDatasets/BenchmarkDatasets/NoAuction/1.NoAuction_Zscore/NoAuction_Zscore_Testing/Test_Dst_NoAuction_ZScore_CF_8.txt')\n",
    "dec_test3 = np.loadtxt('published/BenchmarkDatasets/BenchmarkDatasets/NoAuction/1.NoAuction_Zscore/NoAuction_Zscore_Testing/Test_Dst_NoAuction_ZScore_CF_9.txt')\n",
    "dec_test = np.hstack((dec_test1, dec_test2, dec_test3))\n",
    "\n",
    "W = 40  # number of features from the 144 features\n",
    "dim = 40  # number of LOB states(Limit Order Book-per tick)\n",
    "horizon = 2 #For predicting for the 2nd next tick\n",
    "T = 5 #For look back(data input for the prediction)\n",
    "\n",
    "#taking the label(mid prices)\n",
    "y_train = dec_train[-horizon, :].flatten()\n",
    "y_val = dec_val[-horizon, :].flatten()\n",
    "y_test = dec_test[-horizon, :].flatten()\n",
    "\n",
    "#Removing the time for which no prediction will be made & converting to pytorch standard(0,1,2)\n",
    "y_train = y_train[dim-1:] - 1\n",
    "y_val = y_val[dim-1:] - 1\n",
    "y_test = y_test[dim-1:] - 1\n",
    "\n",
    "#Formatting for pytorch\n",
    "dec_train = dec_train[:40, :].T\n",
    "dec_val = dec_val[:40, :].T\n",
    "dec_test = dec_test[:40, :].T\n",
    "\n",
    "print(\"Train shape:\", dec_train.shape)\n",
    "print(\"Val shape:\", dec_val.shape)\n",
    "print(\"Test shape:\", dec_test.shape)\n"
   ]
  },
  {
   "cell_type": "code",
   "execution_count": 87,
   "id": "d2fd1163-4754-4d0c-9b4e-85ec6faa7ef4",
   "metadata": {},
   "outputs": [],
   "source": [
    "class Dataset(data.Dataset):\n",
    "    \n",
    "    def __init__(self, x, y, num_classes, dim):\n",
    "        self.num_classes = num_classes\n",
    "        self.dim = dim\n",
    "        self.x = x\n",
    "        self.y = y\n",
    "        self.length = x.shape[0] - T - self.dim + 1\n",
    "\n",
    "        x = torch.from_numpy(x)\n",
    "        self.x = torch.unsqueeze(x, 1)\n",
    "        self.y = torch.from_numpy(y)\n",
    "\n",
    "    def __len__(self):\n",
    "        return self.length\n",
    "\n",
    "    def __getitem__(self, i):\n",
    "        input = self.x[i:i+self.dim, :]\n",
    "        input = input.permute(1, 0, 2)\n",
    "        return input, self.y[i]\n"
   ]
  },
  {
   "cell_type": "code",
   "execution_count": 88,
   "id": "62558251-edb2-40c1-b975-f9b47f35fef3",
   "metadata": {},
   "outputs": [],
   "source": [
    "# Hyperparameters\n",
    "batch_size = 32\n",
    "epochs = 15\n",
    "c_final = 2\n",
    "n_heads = 2\n",
    "c_in_axial = 8\n",
    "c_out_axial = 8\n",
    "pool_kernel = (1, 4)\n",
    "pool_stride = (1, 4)\n",
    "num_classes = 3\n",
    "\n",
    "dataset_val = Dataset(dec_val, y_val, num_classes, dim)\n",
    "dataset_test = Dataset(dec_test, y_test, num_classes, dim)\n",
    "dataset_train = Dataset(dec_train, y_train, num_classes, dim)\n",
    "\n",
    "train_loader = torch.utils.data.DataLoader(dataset=dataset_train, batch_size=batch_size, shuffle=True)\n",
    "val_loader = torch.utils.data.DataLoader(dataset=dataset_val, batch_size=batch_size, shuffle=False)\n",
    "test_loader = torch.utils.data.DataLoader(dataset=dataset_test, batch_size=batch_size, shuffle=False)\n"
   ]
  },
  {
   "cell_type": "code",
   "execution_count": 114,
   "id": "e8df4556-0ac8-4cbc-b441-dbbe86c71257",
   "metadata": {},
   "outputs": [],
   "source": [
    "def _conv1d1x1(in_channels, out_channels):\n",
    "    return nn.Sequential(nn.Conv1d(in_channels, out_channels, kernel_size=1, stride=1, bias=False),\n",
    "                         nn.BatchNorm1d(out_channels))\n",
    "#class taken from https://github.com/jeya-maria-jose/Medical-Transformer/blob/main/lib/models/axialnet.py\n",
    "class GatedAxialAttention(nn.Module):\n",
    "    def __init__(self, in_channels, out_channels, heads, dim, flag):\n",
    "        assert (in_channels % heads == 0) and (out_channels % heads == 0)\n",
    "        super().__init__()\n",
    "        self.in_channels = in_channels\n",
    "        self.out_channels = out_channels\n",
    "        self.heads = heads\n",
    "        self.dim_head_v = out_channels // heads\n",
    "        self.flag = flag\n",
    "        self.dim = dim\n",
    "        self.dim_head_qk = self.dim_head_v // 2\n",
    "        self.qkv_channels = self.dim_head_v + self.dim_head_qk * 2\n",
    "        self.to_qkv = _conv1d1x1(in_channels, self.heads * self.qkv_channels)\n",
    "        self.bn_qkv = nn.BatchNorm1d(self.heads * self.qkv_channels)\n",
    "        self.bn_similarity = nn.BatchNorm2d(heads * 3)\n",
    "        self.bn_output = nn.BatchNorm1d(self.heads * self.qkv_channels)\n",
    "        self.f_qr = nn.Parameter(torch.tensor(0.3), requires_grad=False)\n",
    "        self.f_kr = nn.Parameter(torch.tensor(0.3), requires_grad=False)\n",
    "        self.f_sve = nn.Parameter(torch.tensor(0.3), requires_grad=False)\n",
    "        self.f_sv = nn.Parameter(torch.tensor(0.5), requires_grad=False)\n",
    "        self.relative = nn.Parameter(torch.randn(self.dim_head_v * 2, dim * 2 - 1), requires_grad=True)\n",
    "        query_index = torch.arange(dim).unsqueeze(0)\n",
    "        key_index = torch.arange(dim).unsqueeze(1)\n",
    "        relative_index = key_index - query_index + dim - 1\n",
    "        self.register_buffer('flatten_index', relative_index.view(-1))\n",
    "        self.reset_parameters()\n",
    "\n",
    "    def forward(self, x):\n",
    "        if self.flag:\n",
    "            x = x.permute(0, 2, 1, 3)\n",
    "        else:\n",
    "            x = x.permute(0, 3, 1, 2)\n",
    "        N, W, C, H = x.shape\n",
    "        x = x.contiguous().view(N * W, C, H)\n",
    "        x = self.to_qkv(x)\n",
    "        qkv = self.bn_qkv(x)\n",
    "        q, k, v = torch.split(qkv.reshape(N * W, self.heads, self.dim_head_v * 2, H), [self.dim_head_v // 2, self.dim_head_v // 2, self.dim_head_v], dim=2)\n",
    "        all_embeddings = torch.index_select(self.relative, 1, self.flatten_index).view(self.dim_head_v * 2, self.dim, self.dim)\n",
    "        q_embedding, k_embedding, v_embedding = torch.split(all_embeddings, [self.dim_head_qk, self.dim_head_qk, self.dim_head_v], dim=0)\n",
    "        qr = torch.einsum('bgci,cij->bgij', q, q_embedding)\n",
    "        kr = torch.einsum('bgci,cij->bgij', k, k_embedding).transpose(2, 3)\n",
    "        qk = torch.einsum('bgci, bgcj->bgij', q, k)\n",
    "        qr = torch.mul(qr, self.f_qr)\n",
    "        kr = torch.mul(kr, self.f_kr)\n",
    "        stacked_similarity = torch.cat([qk, qr, kr], dim=1)\n",
    "        stacked_similarity = self.bn_similarity(stacked_similarity).view(N * W, 3, self.heads, H, H).sum(dim=1)\n",
    "        similarity = torch.softmax(stacked_similarity, dim=3)\n",
    "        sv = torch.einsum('bgij,bgcj->bgci', similarity, v)\n",
    "        sve = torch.einsum('bgij,cij->bgci', similarity, v_embedding)\n",
    "        sv = torch.mul(sv, self.f_sv)\n",
    "        sve = torch.mul(sve, self.f_sve)\n",
    "        stacked_output = torch.cat([sv, sve], dim=-1).view(N * W, self.out_channels * 2, H)\n",
    "        output = self.bn_output(stacked_output).view(N, W, self.out_channels, 2, H).sum(dim=-2)\n",
    "        if self.flag:\n",
    "            output = output.permute(0, 2, 1, 3)\n",
    "        else:\n",
    "            output = output.permute(0, 2, 3, 1)\n",
    "        return output\n",
    "\n",
    "    def reset_parameters(self):\n",
    "        nn.init.normal_(self.relative, 0., math.sqrt(1. / self.dim_head_v))\n",
    "\n",
    "class AxialLOB(nn.Module):\n",
    "    def __init__(self, W, H, c_in, c_out, c_final, n_heads, pool_kernel, pool_stride):\n",
    "        super().__init__()\n",
    "        self.c_in = c_in\n",
    "        self.c_out = c_out\n",
    "        self.c_final = c_final\n",
    "        self.CNN_in = nn.Conv2d(in_channels=1, out_channels=c_in, kernel_size=1)\n",
    "        self.CNN_out = nn.Conv2d(in_channels=c_out, out_channels=c_final, kernel_size=1)\n",
    "        self.CNN_res2 = nn.Conv2d(in_channels=c_out, out_channels=c_final, kernel_size=1)\n",
    "        self.CNN_res1 = nn.Conv2d(in_channels=1, out_channels=c_out, kernel_size=1)\n",
    "        self.norm = nn.BatchNorm2d(c_in)\n",
    "        self.res_norm2 = nn.BatchNorm2d(c_final)\n",
    "        self.res_norm1 = nn.BatchNorm2d(c_out)\n",
    "        self.norm2 = nn.BatchNorm2d(c_final)\n",
    "        self.axial_height_1 = GatedAxialAttention(c_out, c_out, n_heads, H, flag=False)\n",
    "        self.axial_width_1 = GatedAxialAttention(c_out, c_out, n_heads, W, flag=True)\n",
    "        self.axial_height_2 = GatedAxialAttention(c_out, c_out, n_heads, H, flag=False)\n",
    "        self.axial_width_2 = GatedAxialAttention(c_out, c_out, n_heads, W, flag=True)\n",
    "        self.activation = nn.ReLU()\n",
    "        self.linear = nn.Linear(800, 3)\n",
    "        self.pooling = nn.AvgPool2d(kernel_size=pool_kernel, stride=pool_stride)\n",
    "\n",
    "    def forward(self, x):\n",
    "        #Convolution layer\n",
    "        y = self.CNN_in(x)\n",
    "        y = self.norm(y)\n",
    "        y = self.activation(y)\n",
    "        #mutli head attention layer\n",
    "        y = self.axial_width_1(y)\n",
    "        y = self.axial_height_1(y)\n",
    "        #Convolution layer\n",
    "        x = self.CNN_res1(x)\n",
    "        x = self.res_norm1(x)\n",
    "        x = self.activation(x)\n",
    "        #residual\n",
    "        y = y + x\n",
    "        z = y.detach().clone()\n",
    "        #mutli head attention layer\n",
    "        y = self.axial_width_2(y)\n",
    "        y = self.axial_height_2(y)\n",
    "        #Convolution layer\n",
    "        y = self.CNN_out(y)\n",
    "        y = self.res_norm2(y)\n",
    "        y = self.activation(y)\n",
    "        #Convolution layer\n",
    "        z = self.CNN_res2(z)\n",
    "        z = self.norm2(z)\n",
    "        z = self.activation(z)\n",
    "        #residual\n",
    "        y = y + z\n",
    "        \n",
    "        y = self.pooling(y)\n",
    "        y = torch.flatten(y, 1)\n",
    "        y = self.linear(y)\n",
    "        forecast_y = torch.softmax(y, dim=1)\n",
    "        return forecast_y\n"
   ]
  },
  {
   "cell_type": "code",
   "execution_count": 90,
   "id": "e365bf92-8aa7-4cf0-a0b0-e87b98efc095",
   "metadata": {},
   "outputs": [],
   "source": [
    "model = AxialLOB(W, dim, c_in_axial, c_out_axial, c_final, n_heads, pool_kernel, pool_stride)\n",
    "model.to(device)\n",
    "\n",
    "criterion = nn.CrossEntropyLoss()\n",
    "optimizer = torch.optim.SGD(model.parameters(), lr=0.01, momentum=0.9)\n",
    "scheduler = torch.optim.lr_scheduler.CosineAnnealingLR(optimizer, T_max=epochs, eta_min=0.00001)\n",
    "\n",
    "def batch_gd(model, criterion, optimizer, epochs):\n",
    "    train_losses = np.zeros(epochs)\n",
    "    val_losses = np.zeros(epochs)\n",
    "    best_val_loss = np.inf\n",
    "    best_val_epoch = 0\n",
    "\n",
    "    for it in tqdm(range(epochs)):\n",
    "        model.train()\n",
    "        train_loss = []\n",
    "        for inputs, targets in train_loader:\n",
    "            inputs, targets = inputs.to(device, dtype=torch.float), targets.to(device, dtype=torch.int64)\n",
    "            optimizer.zero_grad()\n",
    "            outputs = model(inputs)\n",
    "            loss = criterion(outputs, targets)\n",
    "            loss.backward()\n",
    "            optimizer.step()\n",
    "            train_loss.append(loss.item())\n",
    "        train_loss = np.mean(train_loss)\n",
    "\n",
    "        model.eval()\n",
    "        val_loss = []\n",
    "        for inputs, targets in val_loader:\n",
    "            inputs, targets = inputs.to(device, dtype=torch.float), targets.to(device, dtype=torch.int64)\n",
    "            outputs = model(inputs)\n",
    "            loss = criterion(outputs, targets)\n",
    "            val_loss.append(loss.item())\n",
    "        val_loss = np.mean(val_loss)\n",
    "\n",
    "        train_losses[it] = train_loss\n",
    "        val_losses[it] = val_loss\n",
    "        scheduler.step()\n",
    "\n",
    "        if val_loss < best_val_loss:\n",
    "            torch.save(model.state_dict(), 'best_axiallob_model.pt')\n",
    "            best_val_loss = val_loss\n",
    "            best_val_epoch = it\n",
    "            print('Model saved at epoch', it+1)\n",
    "\n",
    "        print(f'Epoch {it+1}/{epochs}, Train Loss: {train_loss:.4f}, Val Loss: {val_loss:.4f}, Best Val Epoch: {best_val_epoch+1}')\n",
    "    return train_losses, val_losses\n"
   ]
  },
  {
   "cell_type": "code",
   "execution_count": 91,
   "id": "3722a2bd-d41b-4eed-9c16-a618cc66e2fc",
   "metadata": {},
   "outputs": [
    {
     "name": "stdout",
     "output_type": "stream",
     "text": [
      "------- List Hyper Parameters -------\n",
      "epochs -> 15\n",
      "batch size -> 32\n",
      "Optimizer -> SGD (\n",
      "Parameter Group 0\n",
      "    dampening: 0\n",
      "    differentiable: False\n",
      "    foreach: None\n",
      "    fused: None\n",
      "    initial_lr: 0.01\n",
      "    lr: 0.01\n",
      "    maximize: False\n",
      "    momentum: 0.9\n",
      "    nesterov: False\n",
      "    weight_decay: 0\n",
      ")\n"
     ]
    },
    {
     "name": "stderr",
     "output_type": "stream",
     "text": [
      "  7%|█████▎                                                                          | 1/15 [05:28<1:16:42, 328.75s/it]"
     ]
    },
    {
     "name": "stdout",
     "output_type": "stream",
     "text": [
      "Model saved at epoch 1\n",
      "Epoch 1/15, Train Loss: 0.9985, Val Loss: 0.9712, Best Val Epoch: 1\n"
     ]
    },
    {
     "name": "stderr",
     "output_type": "stream",
     "text": [
      " 13%|██████████▋                                                                     | 2/15 [10:54<1:10:47, 326.76s/it]"
     ]
    },
    {
     "name": "stdout",
     "output_type": "stream",
     "text": [
      "Model saved at epoch 2\n",
      "Epoch 2/15, Train Loss: 0.9134, Val Loss: 0.9517, Best Val Epoch: 2\n"
     ]
    },
    {
     "name": "stderr",
     "output_type": "stream",
     "text": [
      " 20%|████████████████                                                                | 3/15 [16:15<1:04:52, 324.40s/it]"
     ]
    },
    {
     "name": "stdout",
     "output_type": "stream",
     "text": [
      "Model saved at epoch 3\n",
      "Epoch 3/15, Train Loss: 0.8812, Val Loss: 0.9402, Best Val Epoch: 3\n"
     ]
    },
    {
     "name": "stderr",
     "output_type": "stream",
     "text": [
      " 27%|█████████████████████▊                                                            | 4/15 [21:38<59:21, 323.80s/it]"
     ]
    },
    {
     "name": "stdout",
     "output_type": "stream",
     "text": [
      "Model saved at epoch 4\n",
      "Epoch 4/15, Train Loss: 0.8618, Val Loss: 0.9326, Best Val Epoch: 4\n"
     ]
    },
    {
     "name": "stderr",
     "output_type": "stream",
     "text": [
      " 33%|███████████████████████████▎                                                      | 5/15 [26:56<53:38, 321.80s/it]"
     ]
    },
    {
     "name": "stdout",
     "output_type": "stream",
     "text": [
      "Epoch 5/15, Train Loss: 0.8473, Val Loss: 0.9368, Best Val Epoch: 4\n"
     ]
    },
    {
     "name": "stderr",
     "output_type": "stream",
     "text": [
      " 40%|████████████████████████████████▊                                                 | 6/15 [32:21<48:24, 322.73s/it]"
     ]
    },
    {
     "name": "stdout",
     "output_type": "stream",
     "text": [
      "Model saved at epoch 6\n",
      "Epoch 6/15, Train Loss: 0.8380, Val Loss: 0.9178, Best Val Epoch: 6\n"
     ]
    },
    {
     "name": "stderr",
     "output_type": "stream",
     "text": [
      " 47%|██████████████████████████████████████▎                                           | 7/15 [37:40<42:51, 321.40s/it]"
     ]
    },
    {
     "name": "stdout",
     "output_type": "stream",
     "text": [
      "Model saved at epoch 7\n",
      "Epoch 7/15, Train Loss: 0.8293, Val Loss: 0.9166, Best Val Epoch: 7\n"
     ]
    },
    {
     "name": "stderr",
     "output_type": "stream",
     "text": [
      " 53%|███████████████████████████████████████████▋                                      | 8/15 [42:59<37:26, 320.87s/it]"
     ]
    },
    {
     "name": "stdout",
     "output_type": "stream",
     "text": [
      "Epoch 8/15, Train Loss: 0.8236, Val Loss: 0.9237, Best Val Epoch: 7\n"
     ]
    },
    {
     "name": "stderr",
     "output_type": "stream",
     "text": [
      " 60%|█████████████████████████████████████████████████▏                                | 9/15 [48:21<32:07, 321.18s/it]"
     ]
    },
    {
     "name": "stdout",
     "output_type": "stream",
     "text": [
      "Model saved at epoch 9\n",
      "Epoch 9/15, Train Loss: 0.8183, Val Loss: 0.9086, Best Val Epoch: 9\n"
     ]
    },
    {
     "name": "stderr",
     "output_type": "stream",
     "text": [
      " 67%|██████████████████████████████████████████████████████                           | 10/15 [53:38<26:39, 319.99s/it]"
     ]
    },
    {
     "name": "stdout",
     "output_type": "stream",
     "text": [
      "Model saved at epoch 10\n",
      "Epoch 10/15, Train Loss: 0.8144, Val Loss: 0.9048, Best Val Epoch: 10\n"
     ]
    },
    {
     "name": "stderr",
     "output_type": "stream",
     "text": [
      " 73%|███████████████████████████████████████████████████████████▍                     | 11/15 [58:51<21:10, 317.57s/it]"
     ]
    },
    {
     "name": "stdout",
     "output_type": "stream",
     "text": [
      "Epoch 11/15, Train Loss: 0.8113, Val Loss: 0.9060, Best Val Epoch: 10\n"
     ]
    },
    {
     "name": "stderr",
     "output_type": "stream",
     "text": [
      " 80%|███████████████████████████████████████████████████████████████▏               | 12/15 [1:04:02<15:47, 315.85s/it]"
     ]
    },
    {
     "name": "stdout",
     "output_type": "stream",
     "text": [
      "Epoch 12/15, Train Loss: 0.8082, Val Loss: 0.9051, Best Val Epoch: 10\n"
     ]
    },
    {
     "name": "stderr",
     "output_type": "stream",
     "text": [
      " 87%|████████████████████████████████████████████████████████████████████▍          | 13/15 [1:09:15<10:29, 314.71s/it]"
     ]
    },
    {
     "name": "stdout",
     "output_type": "stream",
     "text": [
      "Epoch 13/15, Train Loss: 0.8062, Val Loss: 0.9067, Best Val Epoch: 10\n"
     ]
    },
    {
     "name": "stderr",
     "output_type": "stream",
     "text": [
      " 93%|█████████████████████████████████████████████████████████████████████████▋     | 14/15 [1:14:27<05:13, 313.88s/it]"
     ]
    },
    {
     "name": "stdout",
     "output_type": "stream",
     "text": [
      "Model saved at epoch 14\n",
      "Epoch 14/15, Train Loss: 0.8043, Val Loss: 0.9041, Best Val Epoch: 14\n"
     ]
    },
    {
     "name": "stderr",
     "output_type": "stream",
     "text": [
      "100%|███████████████████████████████████████████████████████████████████████████████| 15/15 [1:19:38<00:00, 318.54s/it]"
     ]
    },
    {
     "name": "stdout",
     "output_type": "stream",
     "text": [
      "Model saved at epoch 15\n",
      "Epoch 15/15, Train Loss: 0.8033, Val Loss: 0.9026, Best Val Epoch: 15\n"
     ]
    },
    {
     "name": "stderr",
     "output_type": "stream",
     "text": [
      "\n"
     ]
    },
    {
     "data": {
      "image/png": "[encoded data removed]",
      "text/plain": [
       "<Figure size 1200x500 with 1 Axes>"
      ]
     },
     "metadata": {},
     "output_type": "display_data"
    }
   ],
   "source": [
    "print(\"------- List Hyper Parameters -------\")\n",
    "print(\"epochs ->\", epochs)\n",
    "print(\"batch size ->\", batch_size)\n",
    "print(\"Optimizer ->\", optimizer)\n",
    "\n",
    "train_losses, val_losses = batch_gd(model, criterion, optimizer, epochs)\n",
    "\n",
    "plt.figure(figsize=(12,5))\n",
    "plt.plot(train_losses, label='Train Loss')\n",
    "plt.plot(val_losses, label='Validation Loss')\n",
    "plt.legend()\n",
    "plt.show()\n"
   ]
  },
  {
   "cell_type": "code",
   "execution_count": 100,
   "id": "2e667e5f-4015-458c-a79a-97a9eadc9b8e",
   "metadata": {},
   "outputs": [],
   "source": [
    "# torch.save(model, \"model\")"
   ]
  },
  {
   "cell_type": "code",
   "execution_count": 110,
   "id": "1a90ada8-fec3-4b05-9a48-27f9d8c9368e",
   "metadata": {},
   "outputs": [
    {
     "name": "stdout",
     "output_type": "stream",
     "text": [
      "Test acc: 0.7511\n"
     ]
    }
   ],
   "source": [
    "model = torch.load('model', weights_only=False)\n",
    "\n",
    "n_correct = 0.\n",
    "n_total = 0.\n",
    "all_targets = []\n",
    "all_predictions = []\n",
    "\n",
    "for inputs, targets in test_loader:\n",
    "    # Move to GPU\n",
    "    inputs, targets = inputs.to(device, dtype=torch.float), targets.to(device, dtype=torch.int64)\n",
    "\n",
    "    # Forward pass\n",
    "    outputs = model(inputs)\n",
    "    \n",
    "    # Get prediction\n",
    "    # torch.max returns both max and argmax\n",
    "    _, predictions = torch.max(outputs, 1)\n",
    "    \n",
    "    # update counts\n",
    "    n_correct += (predictions == targets).sum().item()\n",
    "    n_total += targets.shape[0]\n",
    "\n",
    "    all_targets.append(targets.cpu().numpy())\n",
    "    all_predictions.append(predictions.cpu().numpy())\n",
    "\n",
    "test_acc = n_correct / n_total\n",
    "print(f\"Test acc: {test_acc:.4f}\")\n",
    "  \n",
    "all_targets = np.concatenate(all_targets)    \n",
    "all_predictions = np.concatenate(all_predictions)"
   ]
  },
  {
   "cell_type": "code",
   "execution_count": 111,
   "id": "44c39be9-7400-497c-ab2a-7827bc7ef702",
   "metadata": {},
   "outputs": [
    {
     "name": "stdout",
     "output_type": "stream",
     "text": [
      "              precision    recall  f1-score   support\n",
      "\n",
      "           0     0.7020    0.6865    0.6941     38447\n",
      "           1     0.8138    0.8259    0.8198     65996\n",
      "           2     0.6839    0.6814    0.6826     35100\n",
      "\n",
      "    accuracy                         0.7511    139543\n",
      "   macro avg     0.7332    0.7312    0.7322    139543\n",
      "weighted avg     0.7503    0.7511    0.7507    139543\n",
      "\n"
     ]
    },
    {
     "data": {
      "image/png": "[encoded data removed]",
      "text/plain": [
       "<Figure size 640x480 with 2 Axes>"
      ]
     },
     "metadata": {},
     "output_type": "display_data"
    }
   ],
   "source": [
    "print(classification_report(all_targets, all_predictions, digits=4))\n",
    "from sklearn.metrics import accuracy_score, classification_report, confusion_matrix, ConfusionMatrixDisplay\n",
    "\n",
    "c = confusion_matrix(all_targets, all_predictions, normalize=\"true\")\n",
    "disp = ConfusionMatrixDisplay(c)\n",
    "disp.plot()\n",
    "plt.show()"
   ]
  },
  {
   "cell_type": "code",
   "execution_count": null,
   "id": "2e77aeea-c17d-4ba8-98cc-d3fab540c851",
   "metadata": {},
   "outputs": [],
   "source": []
  }
 ],
 "metadata": {
  "kernelspec": {
   "display_name": "Python 3 (ipykernel)",
   "language": "python",
   "name": "python3"
  },
  "language_info": {
   "codemirror_mode": {
    "name": "ipython",
    "version": 3
   },
   "file_extension": ".py",
   "mimetype": "text/x-python",
   "name": "python",
   "nbconvert_exporter": "python",
   "pygments_lexer": "ipython3",
   "version": "3.12.4"
  }
 },
 "nbformat": 4,
 "nbformat_minor": 5
}
