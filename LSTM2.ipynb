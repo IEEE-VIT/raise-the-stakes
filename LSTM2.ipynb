{
 "cells": [
  {
   "cell_type": "code",
   "execution_count": 1,
   "id": "555d8db3-ae46-45a8-bb1a-3453867fe6d9",
   "metadata": {},
   "outputs": [],
   "source": [
    "import pandas as pd\n",
    "import numpy as np\n",
    "import matplotlib.pyplot as plt\n",
    "from tensorflow.keras.models import Sequential\n",
    "from tensorflow.keras.layers import Dense\n",
    "from tensorflow.keras.layers import LSTM\n",
    "import tensorflow as tf\n",
    "import math\n",
    "from sklearn.metrics import mean_squared_error\n",
    "from sklearn.preprocessing import MinMaxScaler\n",
    "import os\n",
    "from keras.layers import Dropout\n",
    "from keras.callbacks import EarlyStopping\n",
    "from keras.optimizers import Adam"
   ]
  },
  {
   "cell_type": "code",
   "execution_count": 26,
   "id": "00e70a8d-a2b2-4d94-8872-9d932b317006",
   "metadata": {},
   "outputs": [
    {
     "name": "stdout",
     "output_type": "stream",
     "text": [
      "Processed ACN.USUSD_Candlestick_1_s_BID_16.06.2025-16.06.2025.csv: X = (2610, 21, 1), y = (2610,)\n",
      "Processed ACN.USUSD_Candlestick_1_s_BID_17.06.2025-17.06.2025.csv: X = (3892, 21, 1), y = (3892,)\n",
      "Processed ACN.USUSD_Candlestick_1_s_BID_18.06.2025-18.06.2025.csv: X = (3879, 21, 1), y = (3879,)\n",
      "Processed ACN.USUSD_Candlestick_1_s_BID_20.06.2025-20.06.2025.csv: X = (5170, 21, 1), y = (5170,)\n",
      "Processed ADBE.USUSD_Candlestick_1_s_BID_16.06.2025-16.06.2025.csv: X = (4672, 21, 1), y = (4672,)\n",
      "Processed ADBE.USUSD_Candlestick_1_s_BID_17.06.2025-17.06.2025.csv: X = (6046, 21, 1), y = (6046,)\n",
      "Processed ADBE.USUSD_Candlestick_1_s_BID_18.06.2025-18.06.2025.csv: X = (5152, 21, 1), y = (5152,)\n",
      "Processed ADBE.USUSD_Candlestick_1_s_BID_20.06.2025-20.06.2025.csv: X = (2983, 21, 1), y = (2983,)\n",
      "Processed AMZN.USUSD_Candlestick_1_s_BID_16.06.2025-16.06.2025.csv: X = (12018, 21, 1), y = (12018,)\n",
      "Processed AMZN.USUSD_Candlestick_1_s_BID_17.06.2025-17.06.2025.csv: X = (9913, 21, 1), y = (9913,)\n",
      "Processed AMZN.USUSD_Candlestick_1_s_BID_18.06.2025-18.06.2025.csv: X = (16738, 21, 1), y = (16738,)\n",
      "Processed AMZN.USUSD_Candlestick_1_s_BID_19.06.2025-19.06.2025.csv: X = (4713, 21, 1), y = (4713,)\n",
      "Processed AMZN.USUSD_Candlestick_1_s_BID_20.06.2025-20.06.2025.csv: X = (13654, 21, 1), y = (13654,)\n",
      "Processed BBWI.USUSD_Candlestick_1_s_BID_17.06.2025-17.06.2025.csv: X = (3004, 21, 1), y = (3004,)\n",
      "Processed BBWI.USUSD_Candlestick_1_s_BID_18.06.2025-18.06.2025.csv: X = (2906, 21, 1), y = (2906,)\n",
      "Processed BBWI.USUSD_Candlestick_1_s_BID_20.06.2025-20.06.2025.csv: X = (2349, 21, 1), y = (2349,)\n",
      "Processed CAT.USUSD_Candlestick_1_s_BID_16.06.2025-16.06.2025.csv: X = (2423, 21, 1), y = (2423,)\n",
      "Processed CAT.USUSD_Candlestick_1_s_BID_17.06.2025-17.06.2025.csv: X = (3760, 21, 1), y = (3760,)\n",
      "Processed CAT.USUSD_Candlestick_1_s_BID_18.06.2025-18.06.2025.csv: X = (3640, 21, 1), y = (3640,)\n",
      "Processed CAT.USUSD_Candlestick_1_s_BID_20.06.2025-20.06.2025.csv: X = (2598, 21, 1), y = (2598,)\n",
      "Processed CSCO.USUSD_Candlestick_1_s_BID_16.06.2025-16.06.2025.csv: X = (2430, 21, 1), y = (2430,)\n",
      "Processed CSCO.USUSD_Candlestick_1_s_BID_17.06.2025-17.06.2025.csv: X = (4379, 21, 1), y = (4379,)\n",
      "Processed CSCO.USUSD_Candlestick_1_s_BID_18.06.2025-18.06.2025.csv: X = (3887, 21, 1), y = (3887,)\n",
      "Processed CSCO.USUSD_Candlestick_1_s_BID_20.06.2025-20.06.2025.csv: X = (3429, 21, 1), y = (3429,)\n",
      "Processed DELL.USUSD_Candlestick_1_s_BID_16.06.2025-16.06.2025.csv: X = (2148, 21, 1), y = (2148,)\n",
      "Processed DELL.USUSD_Candlestick_1_s_BID_17.06.2025-17.06.2025.csv: X = (5088, 21, 1), y = (5088,)\n",
      "Processed DELL.USUSD_Candlestick_1_s_BID_20.06.2025-20.06.2025.csv: X = (4631, 21, 1), y = (4631,)\n",
      "Processed EA.USUSD_Candlestick_1_s_BID_17.06.2025-17.06.2025.csv: X = (2352, 21, 1), y = (2352,)\n",
      "Processed EA.USUSD_Candlestick_1_s_BID_18.06.2025-18.06.2025.csv: X = (2752, 21, 1), y = (2752,)\n",
      "Processed INTC.USUSD_Candlestick_1_s_BID_17.06.2025-17.06.2025.csv: X = (2510, 21, 1), y = (2510,)\n",
      "Processed INTC.USUSD_Candlestick_1_s_BID_18.06.2025-18.06.2025.csv: X = (2201, 21, 1), y = (2201,)\n",
      "\n",
      "Final shapes:\n",
      "X_train_final: (147927, 21, 1)\n",
      "y_train_final: (147927,)\n"
     ]
    }
   ],
   "source": [
    "folder_path = r\"Raise The Stakes Data\"\n",
    "time_step = 20\n",
    "X_train_all, y_train_all = [], []\n",
    "\n",
    "def create_dataset(close_scaled, vol_raw_mul, time_step=1):\n",
    "    dataX, dataY = [], []\n",
    "    for i in range(len(close_scaled) - time_step - 1):\n",
    "        a = close_scaled[i:(i + time_step), 0]\n",
    "        extra_feature = vol_raw_mul[i + time_step]\n",
    "        a = np.append(a, extra_feature)\n",
    "        dataX.append(a.reshape(-1, 1))\n",
    "        dataY.append(close_scaled[i + time_step, 0])\n",
    "    return np.array(dataX), np.array(dataY)\n",
    "\n",
    "for filename in os.listdir(folder_path):\n",
    "    if filename.endswith(\".csv\"):\n",
    "        file_path = os.path.join(folder_path, filename)\n",
    "        try:\n",
    "            df = pd.read_csv(file_path)\n",
    "\n",
    "            if 'Close' not in df.columns or 'Volume' not in df.columns:\n",
    "                print(f\"Skipped {filename}: Missing 'Close' or 'Volume' column.\")\n",
    "                continue\n",
    "\n",
    "            # Raw values for Close * Volume\n",
    "            close_raw = df['Close'].values.reshape(-1, 1)\n",
    "            volume_raw = df['Volume'].values.reshape(-1, 1)\n",
    "            close_mul_volume_raw = (close_raw * volume_raw).flatten()\n",
    "\n",
    "            # Scale only 'Close'\n",
    "            close_scaler = MinMaxScaler(feature_range=(0, 1))\n",
    "            close_scaled = close_scaler.fit_transform(close_raw)\n",
    "\n",
    "            # Create dataset (no train/test split)\n",
    "            X_data, y_data = create_dataset(close_scaled, close_mul_volume_raw, time_step)\n",
    "\n",
    "            X_train_all.append(X_data)\n",
    "            y_train_all.append(y_data)\n",
    "\n",
    "            print(f\"Processed {filename}: X = {X_data.shape}, y = {y_data.shape}\")\n",
    "\n",
    "        except Exception as e:\n",
    "            print(f\"Error processing {filename}: {e}\")\n",
    "\n",
    "# Final concatenation\n",
    "X_train_final = np.concatenate(X_train_all, axis=0)\n",
    "y_train_final = np.concatenate(y_train_all, axis=0)\n",
    "\n",
    "print(\"\\nFinal shapes:\")\n",
    "print(\"X_train_final:\", X_train_final.shape)\n",
    "print(\"y_train_final:\", y_train_final.shape)\n"
   ]
  },
  {
   "cell_type": "code",
   "execution_count": 30,
   "id": "2f36f230-d780-4b39-9c91-52a46dd463b6",
   "metadata": {},
   "outputs": [
    {
     "data": {
      "text/plain": [
       "array([[0.        ],\n",
       "       [0.17241379],\n",
       "       [0.23908046],\n",
       "       [0.39310345],\n",
       "       [0.39310345],\n",
       "       [0.44367816],\n",
       "       [0.44137931],\n",
       "       [0.44137931],\n",
       "       [0.44137931],\n",
       "       [0.44137931],\n",
       "       [0.44137931],\n",
       "       [0.44367816],\n",
       "       [0.44367816],\n",
       "       [0.44137931],\n",
       "       [0.44367816],\n",
       "       [0.44137931],\n",
       "       [0.52873563],\n",
       "       [0.52873563],\n",
       "       [0.52873563],\n",
       "       [0.52873563],\n",
       "       [4.1567988 ]])"
      ]
     },
     "execution_count": 30,
     "metadata": {},
     "output_type": "execute_result"
    }
   ],
   "source": [
    "X_train_final"
   ]
  },
  {
   "cell_type": "code",
   "execution_count": 32,
   "id": "0003bcc2-90ba-4a04-9891-9887ea8de882",
   "metadata": {},
   "outputs": [
    {
     "data": {
      "text/plain": [
       "array([[0.        ],\n",
       "       [0.17241379],\n",
       "       [0.23908046],\n",
       "       [0.39310345],\n",
       "       [0.39310345],\n",
       "       [0.44367816],\n",
       "       [0.44137931],\n",
       "       [0.44137931],\n",
       "       [0.44137931],\n",
       "       [0.44137931],\n",
       "       [0.44137931],\n",
       "       [0.44367816],\n",
       "       [0.44367816],\n",
       "       [0.44137931],\n",
       "       [0.44367816],\n",
       "       [0.44137931],\n",
       "       [0.52873563],\n",
       "       [0.52873563],\n",
       "       [0.52873563],\n",
       "       [0.52873563],\n",
       "       [4.1567988 ]])"
      ]
     },
     "execution_count": 32,
     "metadata": {},
     "output_type": "execute_result"
    }
   ],
   "source": [
    "X_train_final[0]"
   ]
  },
  {
   "cell_type": "code",
   "execution_count": 15,
   "id": "5a2cf4ad-4ff2-486d-915f-e5dc4057bf39",
   "metadata": {},
   "outputs": [
    {
     "name": "stderr",
     "output_type": "stream",
     "text": [
      "C:\\Users\\chinm\\anaconda3\\Lib\\site-packages\\keras\\src\\layers\\rnn\\rnn.py:200: UserWarning: Do not pass an `input_shape`/`input_dim` argument to a layer. When using Sequential models, prefer using an `Input(shape)` object as the first layer in the model instead.\n",
      "  super().__init__(**kwargs)\n"
     ]
    }
   ],
   "source": [
    "model = Sequential()\n",
    "model.add(LSTM(time_step+1, return_sequences=True, input_shape=(time_step+1,1)))\n",
    "model.add(Dropout(0.2))\n",
    "model.add(LSTM(time_step+1, return_sequences=True))\n",
    "model.add(Dropout(0.2))\n",
    "model.add(LSTM(time_step+1))\n",
    "model.add(Dropout(0.2))\n",
    "model.add(Dense(1))\n",
    "opt = Adam(learning_rate=0.01)\n",
    "model.compile(loss='mean_squared_error', optimizer=opt)\n",
    "\n",
    "\n"
   ]
  },
  {
   "cell_type": "code",
   "execution_count": 17,
   "id": "890339f5-9b03-4076-9838-c3599a245b7f",
   "metadata": {},
   "outputs": [
    {
     "data": {
      "text/html": [
       "<pre style=\"white-space:pre;overflow-x:auto;line-height:normal;font-family:Menlo,'DejaVu Sans Mono',consolas,'Courier New',monospace\"><span style=\"font-weight: bold\">Model: \"sequential_1\"</span>\n",
       "</pre>\n"
      ],
      "text/plain": [
       "\u001b[1mModel: \"sequential_1\"\u001b[0m\n"
      ]
     },
     "metadata": {},
     "output_type": "display_data"
    },
    {
     "data": {
      "text/html": [
       "<pre style=\"white-space:pre;overflow-x:auto;line-height:normal;font-family:Menlo,'DejaVu Sans Mono',consolas,'Courier New',monospace\">┏━━━━━━━━━━━━━━━━━━━━━━━━━━━━━━━━━━━━━━┳━━━━━━━━━━━━━━━━━━━━━━━━━━━━━┳━━━━━━━━━━━━━━━━━┓\n",
       "┃<span style=\"font-weight: bold\"> Layer (type)                         </span>┃<span style=\"font-weight: bold\"> Output Shape                </span>┃<span style=\"font-weight: bold\">         Param # </span>┃\n",
       "┡━━━━━━━━━━━━━━━━━━━━━━━━━━━━━━━━━━━━━━╇━━━━━━━━━━━━━━━━━━━━━━━━━━━━━╇━━━━━━━━━━━━━━━━━┩\n",
       "│ lstm_3 (<span style=\"color: #0087ff; text-decoration-color: #0087ff\">LSTM</span>)                        │ (<span style=\"color: #00d7ff; text-decoration-color: #00d7ff\">None</span>, <span style=\"color: #00af00; text-decoration-color: #00af00\">21</span>, <span style=\"color: #00af00; text-decoration-color: #00af00\">21</span>)              │           <span style=\"color: #00af00; text-decoration-color: #00af00\">1,932</span> │\n",
       "├──────────────────────────────────────┼─────────────────────────────┼─────────────────┤\n",
       "│ dropout_3 (<span style=\"color: #0087ff; text-decoration-color: #0087ff\">Dropout</span>)                  │ (<span style=\"color: #00d7ff; text-decoration-color: #00d7ff\">None</span>, <span style=\"color: #00af00; text-decoration-color: #00af00\">21</span>, <span style=\"color: #00af00; text-decoration-color: #00af00\">21</span>)              │               <span style=\"color: #00af00; text-decoration-color: #00af00\">0</span> │\n",
       "├──────────────────────────────────────┼─────────────────────────────┼─────────────────┤\n",
       "│ lstm_4 (<span style=\"color: #0087ff; text-decoration-color: #0087ff\">LSTM</span>)                        │ (<span style=\"color: #00d7ff; text-decoration-color: #00d7ff\">None</span>, <span style=\"color: #00af00; text-decoration-color: #00af00\">21</span>, <span style=\"color: #00af00; text-decoration-color: #00af00\">21</span>)              │           <span style=\"color: #00af00; text-decoration-color: #00af00\">3,612</span> │\n",
       "├──────────────────────────────────────┼─────────────────────────────┼─────────────────┤\n",
       "│ dropout_4 (<span style=\"color: #0087ff; text-decoration-color: #0087ff\">Dropout</span>)                  │ (<span style=\"color: #00d7ff; text-decoration-color: #00d7ff\">None</span>, <span style=\"color: #00af00; text-decoration-color: #00af00\">21</span>, <span style=\"color: #00af00; text-decoration-color: #00af00\">21</span>)              │               <span style=\"color: #00af00; text-decoration-color: #00af00\">0</span> │\n",
       "├──────────────────────────────────────┼─────────────────────────────┼─────────────────┤\n",
       "│ lstm_5 (<span style=\"color: #0087ff; text-decoration-color: #0087ff\">LSTM</span>)                        │ (<span style=\"color: #00d7ff; text-decoration-color: #00d7ff\">None</span>, <span style=\"color: #00af00; text-decoration-color: #00af00\">21</span>)                  │           <span style=\"color: #00af00; text-decoration-color: #00af00\">3,612</span> │\n",
       "├──────────────────────────────────────┼─────────────────────────────┼─────────────────┤\n",
       "│ dropout_5 (<span style=\"color: #0087ff; text-decoration-color: #0087ff\">Dropout</span>)                  │ (<span style=\"color: #00d7ff; text-decoration-color: #00d7ff\">None</span>, <span style=\"color: #00af00; text-decoration-color: #00af00\">21</span>)                  │               <span style=\"color: #00af00; text-decoration-color: #00af00\">0</span> │\n",
       "├──────────────────────────────────────┼─────────────────────────────┼─────────────────┤\n",
       "│ dense_1 (<span style=\"color: #0087ff; text-decoration-color: #0087ff\">Dense</span>)                      │ (<span style=\"color: #00d7ff; text-decoration-color: #00d7ff\">None</span>, <span style=\"color: #00af00; text-decoration-color: #00af00\">1</span>)                   │              <span style=\"color: #00af00; text-decoration-color: #00af00\">22</span> │\n",
       "└──────────────────────────────────────┴─────────────────────────────┴─────────────────┘\n",
       "</pre>\n"
      ],
      "text/plain": [
       "┏━━━━━━━━━━━━━━━━━━━━━━━━━━━━━━━━━━━━━━┳━━━━━━━━━━━━━━━━━━━━━━━━━━━━━┳━━━━━━━━━━━━━━━━━┓\n",
       "┃\u001b[1m \u001b[0m\u001b[1mLayer (type)                        \u001b[0m\u001b[1m \u001b[0m┃\u001b[1m \u001b[0m\u001b[1mOutput Shape               \u001b[0m\u001b[1m \u001b[0m┃\u001b[1m \u001b[0m\u001b[1m        Param #\u001b[0m\u001b[1m \u001b[0m┃\n",
       "┡━━━━━━━━━━━━━━━━━━━━━━━━━━━━━━━━━━━━━━╇━━━━━━━━━━━━━━━━━━━━━━━━━━━━━╇━━━━━━━━━━━━━━━━━┩\n",
       "│ lstm_3 (\u001b[38;5;33mLSTM\u001b[0m)                        │ (\u001b[38;5;45mNone\u001b[0m, \u001b[38;5;34m21\u001b[0m, \u001b[38;5;34m21\u001b[0m)              │           \u001b[38;5;34m1,932\u001b[0m │\n",
       "├──────────────────────────────────────┼─────────────────────────────┼─────────────────┤\n",
       "│ dropout_3 (\u001b[38;5;33mDropout\u001b[0m)                  │ (\u001b[38;5;45mNone\u001b[0m, \u001b[38;5;34m21\u001b[0m, \u001b[38;5;34m21\u001b[0m)              │               \u001b[38;5;34m0\u001b[0m │\n",
       "├──────────────────────────────────────┼─────────────────────────────┼─────────────────┤\n",
       "│ lstm_4 (\u001b[38;5;33mLSTM\u001b[0m)                        │ (\u001b[38;5;45mNone\u001b[0m, \u001b[38;5;34m21\u001b[0m, \u001b[38;5;34m21\u001b[0m)              │           \u001b[38;5;34m3,612\u001b[0m │\n",
       "├──────────────────────────────────────┼─────────────────────────────┼─────────────────┤\n",
       "│ dropout_4 (\u001b[38;5;33mDropout\u001b[0m)                  │ (\u001b[38;5;45mNone\u001b[0m, \u001b[38;5;34m21\u001b[0m, \u001b[38;5;34m21\u001b[0m)              │               \u001b[38;5;34m0\u001b[0m │\n",
       "├──────────────────────────────────────┼─────────────────────────────┼─────────────────┤\n",
       "│ lstm_5 (\u001b[38;5;33mLSTM\u001b[0m)                        │ (\u001b[38;5;45mNone\u001b[0m, \u001b[38;5;34m21\u001b[0m)                  │           \u001b[38;5;34m3,612\u001b[0m │\n",
       "├──────────────────────────────────────┼─────────────────────────────┼─────────────────┤\n",
       "│ dropout_5 (\u001b[38;5;33mDropout\u001b[0m)                  │ (\u001b[38;5;45mNone\u001b[0m, \u001b[38;5;34m21\u001b[0m)                  │               \u001b[38;5;34m0\u001b[0m │\n",
       "├──────────────────────────────────────┼─────────────────────────────┼─────────────────┤\n",
       "│ dense_1 (\u001b[38;5;33mDense\u001b[0m)                      │ (\u001b[38;5;45mNone\u001b[0m, \u001b[38;5;34m1\u001b[0m)                   │              \u001b[38;5;34m22\u001b[0m │\n",
       "└──────────────────────────────────────┴─────────────────────────────┴─────────────────┘\n"
      ]
     },
     "metadata": {},
     "output_type": "display_data"
    },
    {
     "data": {
      "text/html": [
       "<pre style=\"white-space:pre;overflow-x:auto;line-height:normal;font-family:Menlo,'DejaVu Sans Mono',consolas,'Courier New',monospace\"><span style=\"font-weight: bold\"> Total params: </span><span style=\"color: #00af00; text-decoration-color: #00af00\">9,178</span> (35.85 KB)\n",
       "</pre>\n"
      ],
      "text/plain": [
       "\u001b[1m Total params: \u001b[0m\u001b[38;5;34m9,178\u001b[0m (35.85 KB)\n"
      ]
     },
     "metadata": {},
     "output_type": "display_data"
    },
    {
     "data": {
      "text/html": [
       "<pre style=\"white-space:pre;overflow-x:auto;line-height:normal;font-family:Menlo,'DejaVu Sans Mono',consolas,'Courier New',monospace\"><span style=\"font-weight: bold\"> Trainable params: </span><span style=\"color: #00af00; text-decoration-color: #00af00\">9,178</span> (35.85 KB)\n",
       "</pre>\n"
      ],
      "text/plain": [
       "\u001b[1m Trainable params: \u001b[0m\u001b[38;5;34m9,178\u001b[0m (35.85 KB)\n"
      ]
     },
     "metadata": {},
     "output_type": "display_data"
    },
    {
     "data": {
      "text/html": [
       "<pre style=\"white-space:pre;overflow-x:auto;line-height:normal;font-family:Menlo,'DejaVu Sans Mono',consolas,'Courier New',monospace\"><span style=\"font-weight: bold\"> Non-trainable params: </span><span style=\"color: #00af00; text-decoration-color: #00af00\">0</span> (0.00 B)\n",
       "</pre>\n"
      ],
      "text/plain": [
       "\u001b[1m Non-trainable params: \u001b[0m\u001b[38;5;34m0\u001b[0m (0.00 B)\n"
      ]
     },
     "metadata": {},
     "output_type": "display_data"
    }
   ],
   "source": [
    "model.summary()"
   ]
  },
  {
   "cell_type": "code",
   "execution_count": 21,
   "id": "c5dc343e-6cd1-4715-b06e-e15b28eac2d4",
   "metadata": {},
   "outputs": [
    {
     "name": "stdout",
     "output_type": "stream",
     "text": [
      "Epoch 1/70\n",
      "\u001b[1m73/73\u001b[0m \u001b[32m━━━━━━━━━━━━━━━━━━━━\u001b[0m\u001b[37m\u001b[0m \u001b[1m36s\u001b[0m 494ms/step - loss: 0.0043\n",
      "Epoch 2/70\n",
      "\u001b[1m73/73\u001b[0m \u001b[32m━━━━━━━━━━━━━━━━━━━━\u001b[0m\u001b[37m\u001b[0m \u001b[1m39s\u001b[0m 537ms/step - loss: 0.0033\n",
      "Epoch 3/70\n",
      "\u001b[1m73/73\u001b[0m \u001b[32m━━━━━━━━━━━━━━━━━━━━\u001b[0m\u001b[37m\u001b[0m \u001b[1m36s\u001b[0m 470ms/step - loss: 0.0029\n",
      "Epoch 4/70\n",
      "\u001b[1m73/73\u001b[0m \u001b[32m━━━━━━━━━━━━━━━━━━━━\u001b[0m\u001b[37m\u001b[0m \u001b[1m37s\u001b[0m 502ms/step - loss: 0.0025\n",
      "Epoch 5/70\n",
      "\u001b[1m73/73\u001b[0m \u001b[32m━━━━━━━━━━━━━━━━━━━━\u001b[0m\u001b[37m\u001b[0m \u001b[1m37s\u001b[0m 452ms/step - loss: 0.0023\n",
      "Epoch 6/70\n",
      "\u001b[1m73/73\u001b[0m \u001b[32m━━━━━━━━━━━━━━━━━━━━\u001b[0m\u001b[37m\u001b[0m \u001b[1m46s\u001b[0m 517ms/step - loss: 0.0020\n",
      "Epoch 7/70\n",
      "\u001b[1m73/73\u001b[0m \u001b[32m━━━━━━━━━━━━━━━━━━━━\u001b[0m\u001b[37m\u001b[0m \u001b[1m36s\u001b[0m 445ms/step - loss: 0.0019\n",
      "Epoch 8/70\n",
      "\u001b[1m73/73\u001b[0m \u001b[32m━━━━━━━━━━━━━━━━━━━━\u001b[0m\u001b[37m\u001b[0m \u001b[1m36s\u001b[0m 488ms/step - loss: 0.0017\n",
      "Epoch 9/70\n",
      "\u001b[1m73/73\u001b[0m \u001b[32m━━━━━━━━━━━━━━━━━━━━\u001b[0m\u001b[37m\u001b[0m \u001b[1m40s\u001b[0m 467ms/step - loss: 0.0016\n",
      "Epoch 10/70\n",
      "\u001b[1m73/73\u001b[0m \u001b[32m━━━━━━━━━━━━━━━━━━━━\u001b[0m\u001b[37m\u001b[0m \u001b[1m44s\u001b[0m 505ms/step - loss: 0.0016\n",
      "Epoch 11/70\n",
      "\u001b[1m73/73\u001b[0m \u001b[32m━━━━━━━━━━━━━━━━━━━━\u001b[0m\u001b[37m\u001b[0m \u001b[1m38s\u001b[0m 460ms/step - loss: 0.0015\n",
      "Epoch 12/70\n",
      "\u001b[1m73/73\u001b[0m \u001b[32m━━━━━━━━━━━━━━━━━━━━\u001b[0m\u001b[37m\u001b[0m \u001b[1m44s\u001b[0m 504ms/step - loss: 0.0014\n",
      "Epoch 13/70\n",
      "\u001b[1m73/73\u001b[0m \u001b[32m━━━━━━━━━━━━━━━━━━━━\u001b[0m\u001b[37m\u001b[0m \u001b[1m34s\u001b[0m 464ms/step - loss: 0.0015\n",
      "Epoch 14/70\n",
      "\u001b[1m73/73\u001b[0m \u001b[32m━━━━━━━━━━━━━━━━━━━━\u001b[0m\u001b[37m\u001b[0m \u001b[1m37s\u001b[0m 509ms/step - loss: 0.0014\n",
      "Epoch 15/70\n",
      "\u001b[1m73/73\u001b[0m \u001b[32m━━━━━━━━━━━━━━━━━━━━\u001b[0m\u001b[37m\u001b[0m \u001b[1m33s\u001b[0m 458ms/step - loss: 0.0014\n",
      "Epoch 16/70\n",
      "\u001b[1m73/73\u001b[0m \u001b[32m━━━━━━━━━━━━━━━━━━━━\u001b[0m\u001b[37m\u001b[0m \u001b[1m43s\u001b[0m 485ms/step - loss: 0.0014\n",
      "Epoch 17/70\n",
      "\u001b[1m73/73\u001b[0m \u001b[32m━━━━━━━━━━━━━━━━━━━━\u001b[0m\u001b[37m\u001b[0m \u001b[1m42s\u001b[0m 503ms/step - loss: 0.0014\n",
      "Epoch 18/70\n",
      "\u001b[1m73/73\u001b[0m \u001b[32m━━━━━━━━━━━━━━━━━━━━\u001b[0m\u001b[37m\u001b[0m \u001b[1m34s\u001b[0m 469ms/step - loss: 0.0013\n",
      "Epoch 19/70\n",
      "\u001b[1m73/73\u001b[0m \u001b[32m━━━━━━━━━━━━━━━━━━━━\u001b[0m\u001b[37m\u001b[0m \u001b[1m36s\u001b[0m 489ms/step - loss: 0.0013\n",
      "Epoch 20/70\n",
      "\u001b[1m73/73\u001b[0m \u001b[32m━━━━━━━━━━━━━━━━━━━━\u001b[0m\u001b[37m\u001b[0m \u001b[1m33s\u001b[0m 451ms/step - loss: 0.0014\n",
      "Epoch 21/70\n",
      "\u001b[1m73/73\u001b[0m \u001b[32m━━━━━━━━━━━━━━━━━━━━\u001b[0m\u001b[37m\u001b[0m \u001b[1m43s\u001b[0m 478ms/step - loss: 0.0014\n",
      "Epoch 22/70\n",
      "\u001b[1m73/73\u001b[0m \u001b[32m━━━━━━━━━━━━━━━━━━━━\u001b[0m\u001b[37m\u001b[0m \u001b[1m33s\u001b[0m 449ms/step - loss: 0.0013\n",
      "Epoch 23/70\n",
      "\u001b[1m73/73\u001b[0m \u001b[32m━━━━━━━━━━━━━━━━━━━━\u001b[0m\u001b[37m\u001b[0m \u001b[1m36s\u001b[0m 495ms/step - loss: 0.0013\n",
      "Epoch 24/70\n",
      "\u001b[1m73/73\u001b[0m \u001b[32m━━━━━━━━━━━━━━━━━━━━\u001b[0m\u001b[37m\u001b[0m \u001b[1m34s\u001b[0m 461ms/step - loss: 0.0013\n",
      "Epoch 25/70\n",
      "\u001b[1m73/73\u001b[0m \u001b[32m━━━━━━━━━━━━━━━━━━━━\u001b[0m\u001b[37m\u001b[0m \u001b[1m43s\u001b[0m 480ms/step - loss: 0.0012\n",
      "Epoch 26/70\n",
      "\u001b[1m73/73\u001b[0m \u001b[32m━━━━━━━━━━━━━━━━━━━━\u001b[0m\u001b[37m\u001b[0m \u001b[1m40s\u001b[0m 458ms/step - loss: 0.0012\n",
      "Epoch 27/70\n",
      "\u001b[1m73/73\u001b[0m \u001b[32m━━━━━━━━━━━━━━━━━━━━\u001b[0m\u001b[37m\u001b[0m \u001b[1m37s\u001b[0m 512ms/step - loss: 0.0013\n",
      "Epoch 28/70\n",
      "\u001b[1m73/73\u001b[0m \u001b[32m━━━━━━━━━━━━━━━━━━━━\u001b[0m\u001b[37m\u001b[0m \u001b[1m35s\u001b[0m 424ms/step - loss: 0.0012\n",
      "Epoch 29/70\n",
      "\u001b[1m73/73\u001b[0m \u001b[32m━━━━━━━━━━━━━━━━━━━━\u001b[0m\u001b[37m\u001b[0m \u001b[1m44s\u001b[0m 473ms/step - loss: 0.0013\n",
      "Epoch 30/70\n",
      "\u001b[1m73/73\u001b[0m \u001b[32m━━━━━━━━━━━━━━━━━━━━\u001b[0m\u001b[37m\u001b[0m \u001b[1m32s\u001b[0m 432ms/step - loss: 0.0012\n",
      "Epoch 31/70\n",
      "\u001b[1m73/73\u001b[0m \u001b[32m━━━━━━━━━━━━━━━━━━━━\u001b[0m\u001b[37m\u001b[0m \u001b[1m46s\u001b[0m 495ms/step - loss: 0.0013\n",
      "Epoch 32/70\n",
      "\u001b[1m73/73\u001b[0m \u001b[32m━━━━━━━━━━━━━━━━━━━━\u001b[0m\u001b[37m\u001b[0m \u001b[1m38s\u001b[0m 446ms/step - loss: 0.0012\n",
      "Epoch 33/70\n",
      "\u001b[1m73/73\u001b[0m \u001b[32m━━━━━━━━━━━━━━━━━━━━\u001b[0m\u001b[37m\u001b[0m \u001b[1m39s\u001b[0m 424ms/step - loss: 0.0012\n",
      "Epoch 34/70\n",
      "\u001b[1m73/73\u001b[0m \u001b[32m━━━━━━━━━━━━━━━━━━━━\u001b[0m\u001b[37m\u001b[0m \u001b[1m41s\u001b[0m 422ms/step - loss: 0.0012\n",
      "Epoch 35/70\n",
      "\u001b[1m73/73\u001b[0m \u001b[32m━━━━━━━━━━━━━━━━━━━━\u001b[0m\u001b[37m\u001b[0m \u001b[1m44s\u001b[0m 454ms/step - loss: 0.0012\n",
      "Epoch 36/70\n",
      "\u001b[1m73/73\u001b[0m \u001b[32m━━━━━━━━━━━━━━━━━━━━\u001b[0m\u001b[37m\u001b[0m \u001b[1m41s\u001b[0m 453ms/step - loss: 0.0011\n",
      "Epoch 37/70\n",
      "\u001b[1m73/73\u001b[0m \u001b[32m━━━━━━━━━━━━━━━━━━━━\u001b[0m\u001b[37m\u001b[0m \u001b[1m37s\u001b[0m 400ms/step - loss: 0.0012\n",
      "Epoch 38/70\n",
      "\u001b[1m73/73\u001b[0m \u001b[32m━━━━━━━━━━━━━━━━━━━━\u001b[0m\u001b[37m\u001b[0m \u001b[1m46s\u001b[0m 471ms/step - loss: 0.0011\n",
      "Epoch 39/70\n",
      "\u001b[1m73/73\u001b[0m \u001b[32m━━━━━━━━━━━━━━━━━━━━\u001b[0m\u001b[37m\u001b[0m \u001b[1m31s\u001b[0m 425ms/step - loss: 0.0011\n",
      "Epoch 40/70\n",
      "\u001b[1m73/73\u001b[0m \u001b[32m━━━━━━━━━━━━━━━━━━━━\u001b[0m\u001b[37m\u001b[0m \u001b[1m34s\u001b[0m 469ms/step - loss: 0.0011\n",
      "Epoch 41/70\n",
      "\u001b[1m73/73\u001b[0m \u001b[32m━━━━━━━━━━━━━━━━━━━━\u001b[0m\u001b[37m\u001b[0m \u001b[1m36s\u001b[0m 391ms/step - loss: 0.0012\n",
      "Epoch 42/70\n",
      "\u001b[1m73/73\u001b[0m \u001b[32m━━━━━━━━━━━━━━━━━━━━\u001b[0m\u001b[37m\u001b[0m \u001b[1m30s\u001b[0m 410ms/step - loss: 0.0011\n",
      "Epoch 43/70\n",
      "\u001b[1m73/73\u001b[0m \u001b[32m━━━━━━━━━━━━━━━━━━━━\u001b[0m\u001b[37m\u001b[0m \u001b[1m38s\u001b[0m 363ms/step - loss: 0.0011\n",
      "Epoch 44/70\n",
      "\u001b[1m73/73\u001b[0m \u001b[32m━━━━━━━━━━━━━━━━━━━━\u001b[0m\u001b[37m\u001b[0m \u001b[1m28s\u001b[0m 387ms/step - loss: 0.0011\n",
      "Epoch 45/70\n",
      "\u001b[1m73/73\u001b[0m \u001b[32m━━━━━━━━━━━━━━━━━━━━\u001b[0m\u001b[37m\u001b[0m \u001b[1m29s\u001b[0m 393ms/step - loss: 0.0011\n",
      "Epoch 46/70\n",
      "\u001b[1m73/73\u001b[0m \u001b[32m━━━━━━━━━━━━━━━━━━━━\u001b[0m\u001b[37m\u001b[0m \u001b[1m43s\u001b[0m 425ms/step - loss: 0.0011\n",
      "Epoch 47/70\n",
      "\u001b[1m73/73\u001b[0m \u001b[32m━━━━━━━━━━━━━━━━━━━━\u001b[0m\u001b[37m\u001b[0m \u001b[1m42s\u001b[0m 441ms/step - loss: 0.0011\n",
      "Epoch 48/70\n",
      "\u001b[1m73/73\u001b[0m \u001b[32m━━━━━━━━━━━━━━━━━━━━\u001b[0m\u001b[37m\u001b[0m \u001b[1m30s\u001b[0m 409ms/step - loss: 0.0011\n",
      "Epoch 49/70\n",
      "\u001b[1m73/73\u001b[0m \u001b[32m━━━━━━━━━━━━━━━━━━━━\u001b[0m\u001b[37m\u001b[0m \u001b[1m42s\u001b[0m 415ms/step - loss: 0.0011\n",
      "Epoch 50/70\n",
      "\u001b[1m73/73\u001b[0m \u001b[32m━━━━━━━━━━━━━━━━━━━━\u001b[0m\u001b[37m\u001b[0m \u001b[1m42s\u001b[0m 434ms/step - loss: 0.0011\n",
      "Epoch 51/70\n",
      "\u001b[1m73/73\u001b[0m \u001b[32m━━━━━━━━━━━━━━━━━━━━\u001b[0m\u001b[37m\u001b[0m \u001b[1m40s\u001b[0m 417ms/step - loss: 0.0011\n",
      "Epoch 52/70\n",
      "\u001b[1m73/73\u001b[0m \u001b[32m━━━━━━━━━━━━━━━━━━━━\u001b[0m\u001b[37m\u001b[0m \u001b[1m41s\u001b[0m 414ms/step - loss: 0.0011\n",
      "Epoch 53/70\n",
      "\u001b[1m73/73\u001b[0m \u001b[32m━━━━━━━━━━━━━━━━━━━━\u001b[0m\u001b[37m\u001b[0m \u001b[1m41s\u001b[0m 414ms/step - loss: 0.0011\n",
      "Epoch 54/70\n",
      "\u001b[1m73/73\u001b[0m \u001b[32m━━━━━━━━━━━━━━━━━━━━\u001b[0m\u001b[37m\u001b[0m \u001b[1m42s\u001b[0m 434ms/step - loss: 0.0012\n",
      "Epoch 55/70\n",
      "\u001b[1m73/73\u001b[0m \u001b[32m━━━━━━━━━━━━━━━━━━━━\u001b[0m\u001b[37m\u001b[0m \u001b[1m40s\u001b[0m 416ms/step - loss: 0.0011\n",
      "Epoch 56/70\n",
      "\u001b[1m73/73\u001b[0m \u001b[32m━━━━━━━━━━━━━━━━━━━━\u001b[0m\u001b[37m\u001b[0m \u001b[1m32s\u001b[0m 435ms/step - loss: 0.0011\n",
      "Epoch 57/70\n",
      "\u001b[1m73/73\u001b[0m \u001b[32m━━━━━━━━━━━━━━━━━━━━\u001b[0m\u001b[37m\u001b[0m \u001b[1m41s\u001b[0m 435ms/step - loss: 0.0011\n",
      "Epoch 58/70\n",
      "\u001b[1m73/73\u001b[0m \u001b[32m━━━━━━━━━━━━━━━━━━━━\u001b[0m\u001b[37m\u001b[0m \u001b[1m39s\u001b[0m 397ms/step - loss: 0.0011\n",
      "Epoch 59/70\n",
      "\u001b[1m73/73\u001b[0m \u001b[32m━━━━━━━━━━━━━━━━━━━━\u001b[0m\u001b[37m\u001b[0m \u001b[1m44s\u001b[0m 434ms/step - loss: 0.0011\n",
      "Epoch 60/70\n",
      "\u001b[1m73/73\u001b[0m \u001b[32m━━━━━━━━━━━━━━━━━━━━\u001b[0m\u001b[37m\u001b[0m \u001b[1m39s\u001b[0m 401ms/step - loss: 0.0011\n",
      "Epoch 61/70\n",
      "\u001b[1m73/73\u001b[0m \u001b[32m━━━━━━━━━━━━━━━━━━━━\u001b[0m\u001b[37m\u001b[0m \u001b[1m43s\u001b[0m 429ms/step - loss: 0.0011\n",
      "Epoch 62/70\n",
      "\u001b[1m73/73\u001b[0m \u001b[32m━━━━━━━━━━━━━━━━━━━━\u001b[0m\u001b[37m\u001b[0m \u001b[1m28s\u001b[0m 388ms/step - loss: 0.0011\n",
      "Epoch 63/70\n",
      "\u001b[1m73/73\u001b[0m \u001b[32m━━━━━━━━━━━━━━━━━━━━\u001b[0m\u001b[37m\u001b[0m \u001b[1m46s\u001b[0m 460ms/step - loss: 0.0011\n",
      "Epoch 64/70\n",
      "\u001b[1m73/73\u001b[0m \u001b[32m━━━━━━━━━━━━━━━━━━━━\u001b[0m\u001b[37m\u001b[0m \u001b[1m38s\u001b[0m 418ms/step - loss: 0.0011\n",
      "Epoch 65/70\n",
      "\u001b[1m73/73\u001b[0m \u001b[32m━━━━━━━━━━━━━━━━━━━━\u001b[0m\u001b[37m\u001b[0m \u001b[1m34s\u001b[0m 470ms/step - loss: 0.0011\n",
      "Epoch 66/70\n",
      "\u001b[1m73/73\u001b[0m \u001b[32m━━━━━━━━━━━━━━━━━━━━\u001b[0m\u001b[37m\u001b[0m \u001b[1m31s\u001b[0m 421ms/step - loss: 0.0011\n",
      "Epoch 67/70\n",
      "\u001b[1m73/73\u001b[0m \u001b[32m━━━━━━━━━━━━━━━━━━━━\u001b[0m\u001b[37m\u001b[0m \u001b[1m41s\u001b[0m 427ms/step - loss: 0.0011\n",
      "Epoch 68/70\n",
      "\u001b[1m73/73\u001b[0m \u001b[32m━━━━━━━━━━━━━━━━━━━━\u001b[0m\u001b[37m\u001b[0m \u001b[1m39s\u001b[0m 399ms/step - loss: 0.0011\n",
      "Epoch 69/70\n",
      "\u001b[1m73/73\u001b[0m \u001b[32m━━━━━━━━━━━━━━━━━━━━\u001b[0m\u001b[37m\u001b[0m \u001b[1m43s\u001b[0m 430ms/step - loss: 0.0011\n",
      "Epoch 70/70\n",
      "\u001b[1m73/73\u001b[0m \u001b[32m━━━━━━━━━━━━━━━━━━━━\u001b[0m\u001b[37m\u001b[0m \u001b[1m30s\u001b[0m 405ms/step - loss: 0.0011\n"
     ]
    },
    {
     "data": {
      "text/plain": [
       "<keras.src.callbacks.history.History at 0x1ab88c1d1c0>"
      ]
     },
     "execution_count": 21,
     "metadata": {},
     "output_type": "execute_result"
    }
   ],
   "source": [
    "early_stop = EarlyStopping(monitor='loss', patience=15, restore_best_weights=True)\n",
    "model.fit(X_train_final, y_train_final,epochs=70, batch_size=2048, callbacks=[early_stop])"
   ]
  },
  {
   "cell_type": "code",
   "execution_count": 5,
   "id": "f6b50b14-950e-4d91-9477-f812720fec7e",
   "metadata": {},
   "outputs": [
    {
     "name": "stdout",
     "output_type": "stream",
     "text": [
      "Test.csv processed successfully.\n",
      "X_test shape: (2616, 21, 1)\n",
      "y_test shape: (2616,)\n"
     ]
    }
   ],
   "source": [
    "time_step=20\n",
    "def create_dataset(close_scaled, vol_raw_mul, time_step=1):\n",
    "    dataX, dataY = [], []\n",
    "    for i in range(len(close_scaled) - time_step - 1):\n",
    "        a = close_scaled[i:(i + time_step), 0]\n",
    "        extra_feature = vol_raw_mul[i + time_step]\n",
    "        a = np.append(a, extra_feature)\n",
    "        dataX.append(a.reshape(-1, 1))\n",
    "        dataY.append(close_scaled[i + time_step, 0])\n",
    "    return np.array(dataX), np.array(dataY)\n",
    "try:\n",
    "    df = pd.read_csv(\"Test.csv\")\n",
    "\n",
    "    if 'Close' not in df.columns or 'Volume' not in df.columns:\n",
    "        raise ValueError(\"Missing 'Close' or 'Volume' column.\")\n",
    "\n",
    "    # Raw values\n",
    "    close_raw = df['Close'].values.reshape(-1, 1)\n",
    "    volume_raw = df['Volume'].values.reshape(-1, 1)\n",
    "    close_mul_volume_raw = (close_raw * volume_raw).flatten()\n",
    "\n",
    "    # Scale 'Close' (separately from training)\n",
    "    close_scaler = MinMaxScaler(feature_range=(0, 1))\n",
    "    close_scaled = close_scaler.fit_transform(close_raw)\n",
    "\n",
    "    # Create test dataset\n",
    "    X_test, y_test = create_dataset(close_scaled, close_mul_volume_raw, time_step)\n",
    "\n",
    "    print(\"Test.csv processed successfully.\")\n",
    "    print(\"X_test shape:\", X_test.shape)\n",
    "    print(\"y_test shape:\", y_test.shape)\n",
    "\n",
    "except Exception as e:\n",
    "    print(\"Error processing Test.csv:\", e)"
   ]
  },
  {
   "cell_type": "code",
   "execution_count": 7,
   "id": "005027e7-c69a-41b4-9f6d-c6fe8556d709",
   "metadata": {},
   "outputs": [],
   "source": [
    "model = tf.keras.models.load_model(\"RaiseTheStakes.keras\")"
   ]
  },
  {
   "cell_type": "code",
   "execution_count": 9,
   "id": "dedd67a9-3594-4b14-9070-3273842070f3",
   "metadata": {},
   "outputs": [
    {
     "name": "stdout",
     "output_type": "stream",
     "text": [
      "\u001b[1m82/82\u001b[0m \u001b[32m━━━━━━━━━━━━━━━━━━━━\u001b[0m\u001b[37m\u001b[0m \u001b[1m2s\u001b[0m 17ms/step\n"
     ]
    }
   ],
   "source": [
    "test_predict=model.predict(X_test)"
   ]
  },
  {
   "cell_type": "code",
   "execution_count": 10,
   "id": "965946aa-befe-465b-8064-be51e9a4f093",
   "metadata": {},
   "outputs": [],
   "source": [
    "test_predict=close_scaler.inverse_transform(test_predict)"
   ]
  },
  {
   "cell_type": "code",
   "execution_count": 13,
   "id": "14ac8f29-eb16-4377-b939-fa2e4b52b735",
   "metadata": {},
   "outputs": [
    {
     "data": {
      "text/plain": [
       "20.875058882845266"
      ]
     },
     "execution_count": 13,
     "metadata": {},
     "output_type": "execute_result"
    }
   ],
   "source": [
    "math.sqrt(mean_squared_error(y_test,test_predict))"
   ]
  },
  {
   "cell_type": "code",
   "execution_count": 15,
   "id": "0d168dc1-7540-498f-bd93-eeb238878fee",
   "metadata": {},
   "outputs": [],
   "source": [
    "y_test_final=close_scaler.inverse_transform(y_test.reshape(-1, 1))"
   ]
  },
  {
   "cell_type": "code",
   "execution_count": 17,
   "id": "613477da-a3f5-447f-9b91-22ac29b28967",
   "metadata": {},
   "outputs": [
    {
     "data": {
      "text/plain": [
       "array([[21.687],\n",
       "       [21.686],\n",
       "       [21.697],\n",
       "       ...,\n",
       "       [21.246],\n",
       "       [21.247],\n",
       "       [21.236]])"
      ]
     },
     "execution_count": 17,
     "metadata": {},
     "output_type": "execute_result"
    }
   ],
   "source": [
    "y_test_final"
   ]
  },
  {
   "cell_type": "code",
   "execution_count": 48,
   "id": "24816f0e-10ab-4b1e-8653-027618855109",
   "metadata": {},
   "outputs": [
    {
     "data": {
      "image/png": "[encoded data removed]",
      "text/plain": [
       "<Figure size 1200x600 with 1 Axes>"
      ]
     },
     "metadata": {},
     "output_type": "display_data"
    }
   ],
   "source": [
    "test_predict_plot = np.empty_like(y_test_final)\n",
    "test_predict_plot[:] = np.nan\n",
    "test_predict_plot[20:] = test_predict[:-20]\n",
    "plt.figure(figsize=(12,6))\n",
    "plt.plot(y_test_final, label='Actual')\n",
    "plt.plot(test_predict_plot, label='Predicted')\n",
    "plt.legend()\n",
    "plt.title(\"Predicted vs Actual (shifted by time_step)\")\n",
    "plt.show()"
   ]
  },
  {
   "cell_type": "code",
   "execution_count": null,
   "id": "ea9c20a0-814c-4532-990b-cf83dd9b4f75",
   "metadata": {},
   "outputs": [],
   "source": []
  },
  {
   "cell_type": "code",
   "execution_count": null,
   "id": "1de4939f-99b7-4fbb-9983-640aac3ebb5e",
   "metadata": {},
   "outputs": [],
   "source": []
  }
 ],
 "metadata": {
  "kernelspec": {
   "display_name": "Python 3 (ipykernel)",
   "language": "python",
   "name": "python3"
  },
  "language_info": {
   "codemirror_mode": {
    "name": "ipython",
    "version": 3
   },
   "file_extension": ".py",
   "mimetype": "text/x-python",
   "name": "python",
   "nbconvert_exporter": "python",
   "pygments_lexer": "ipython3",
   "version": "3.12.4"
  }
 },
 "nbformat": 4,
 "nbformat_minor": 5
}
